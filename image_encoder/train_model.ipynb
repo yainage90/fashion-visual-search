{
 "cells": [
  {
   "cell_type": "code",
   "execution_count": null,
   "metadata": {},
   "outputs": [],
   "source": [
    "import copy\n",
    "from datasets import load_dataset, concatenate_datasets\n",
    "import random\n",
    "import json\n",
    "import os\n",
    "import matplotlib.pyplot as plt\n",
    "from tqdm import tqdm\n",
    "\n",
    "import torch\n",
    "import torch.nn as nn\n",
    "import torch.nn.functional as F\n",
    "from torch.cuda.amp import autocast, GradScaler\n",
    "from torch.utils.data import Dataset, DataLoader\n",
    "import torchvision.transforms as v2\n",
    "from torchvision.transforms.functional import to_pil_image\n",
    "from transformers import AutoImageProcessor, SwinModel, SwinConfig"
   ]
  },
  {
   "cell_type": "code",
   "execution_count": null,
   "metadata": {},
   "outputs": [],
   "source": [
    "device = torch.device('cuda') if torch.cuda.is_available() else torch.device('cpu')\n",
    "print(device)"
   ]
  },
  {
   "cell_type": "code",
   "execution_count": null,
   "metadata": {},
   "outputs": [],
   "source": [
    "import huggingface_hub\n",
    "\n",
    "huggingface_hub.login('<token>')"
   ]
  },
  {
   "cell_type": "code",
   "execution_count": null,
   "metadata": {},
   "outputs": [],
   "source": [
    "onthelook_dataset = load_dataset('<path/to/dataset>')\n",
    "kream_dataset = load_dataset('<path/to/dataset>')\n",
    "dataset = concatenate_datasets([onthelook_dataset['train'], kream_dataset['train']])\n",
    "dataset = dataset.train_test_split(test_size=0.1, shuffle=True, stratify_by_column='category')"
   ]
  },
  {
   "cell_type": "code",
   "execution_count": null,
   "metadata": {},
   "outputs": [],
   "source": [
    "ckpt = \"microsoft/swin-base-patch4-window7-224\"\n",
    "image_processor = AutoImageProcessor.from_pretrained(ckpt)\n",
    "config = SwinConfig.from_pretrained(ckpt)\n",
    "print(config.image_size)\n",
    "print(config.hidden_size)"
   ]
  },
  {
   "cell_type": "code",
   "execution_count": null,
   "metadata": {},
   "outputs": [],
   "source": [
    "class CustomDataset(Dataset):\n",
    "    def __init__(self, dataset, config, image_processor):\n",
    "        self.dataset = dataset\n",
    "        self.image_processor = image_processor\n",
    "\n",
    "        self.transform = v2.Compose(\n",
    "            [\n",
    "                v2.Resize((config.image_size, config.image_size)),\n",
    "                v2.RandomHorizontalFlip(p=0.5),\n",
    "                v2.RandomApply([v2.RandomRotation(degrees=(-90, 90))], p=0.3),\n",
    "                v2.RandomApply([v2.ColorJitter(brightness=0.2, contrast=0.2, saturation=0.2, hue=0.1)], p=0.2),\n",
    "                v2.RandomApply([v2.RandomAdjustSharpness(sharpness_factor=2)], p=0.1),\n",
    "                v2.RandomApply([v2.GaussianBlur(kernel_size=(5, 9), sigma=(0.1, 5))], p=0.1),\n",
    "                v2.ToTensor(),\n",
    "                v2.RandomErasing(p=0.1, scale=(0.02, 0.33), ratio=(0.3, 3.3)),\n",
    "                v2.Normalize(mean=self.image_processor.image_mean, std=self.image_processor.image_std),\n",
    "            ]\n",
    "        )\n",
    "\n",
    "    def __len__(self):\n",
    "        return len(self.dataset)\n",
    "\n",
    "    def __getitem__(self, i):\n",
    "        data = self.dataset[i]\n",
    "\n",
    "        anchor_image = self.transform(data['anchor_image'])\n",
    "        positive_image = self.transform(data['positive_image'])\n",
    "\n",
    "        return anchor_image, positive_image"
   ]
  },
  {
   "cell_type": "code",
   "execution_count": null,
   "metadata": {},
   "outputs": [],
   "source": [
    "train_dataset = CustomDataset(dataset['train'], config=config, image_processor=image_processor)\n",
    "test_dataset = CustomDataset(dataset['test'], config=config, image_processor=image_processor)\n",
    "\n",
    "print(f'train: {len(train_dataset)}, test: {len(test_dataset)}')"
   ]
  },
  {
   "cell_type": "code",
   "execution_count": null,
   "metadata": {},
   "outputs": [],
   "source": [
    "train_dataloader = DataLoader(train_dataset, batch_size=64, shuffle=True, num_workers=8, pin_memory=True)\n",
    "test_dataloader = DataLoader(test_dataset, batch_size=64, shuffle=True, num_workers=8, pin_memory=True)"
   ]
  },
  {
   "cell_type": "code",
   "execution_count": null,
   "metadata": {},
   "outputs": [],
   "source": [
    "def denormalize(tensor, mean, std):\n",
    "    for t, m, s in zip(tensor, mean, std):\n",
    "        t.mul_(s).add_(m)\n",
    "    return tensor\n",
    "\n",
    "def show_random_data():\n",
    "    i = random.choice([i for i in range(len(train_dataset))])\n",
    "    anchor, positive = train_dataset[i]\n",
    "    mean = image_processor.image_mean\n",
    "    std = image_processor.image_std\n",
    "    \n",
    "    denormalized_anchor = denormalize(anchor.clone(), mean, std)\n",
    "    denormalized_positive = denormalize(positive.clone(), mean, std)\n",
    "    \n",
    "    fig, axses = plt.subplots(1, 2, figsize=(20, 10)) \n",
    "    axses[0].imshow(to_pil_image(denormalized_anchor))\n",
    "    axses[0].axis('off')\n",
    "    axses[1].imshow(to_pil_image(denormalized_positive))\n",
    "    axses[1].axis('off')\n",
    "\n",
    "    plt.tight_layout()\n",
    "    plt.show()\n",
    "    \n",
    "show_random_data()"
   ]
  },
  {
   "cell_type": "code",
   "execution_count": null,
   "metadata": {},
   "outputs": [],
   "source": [
    "class ImageEncoder(nn.Module):\n",
    "    def __init__(self):\n",
    "        super(ImageEncoder, self).__init__()\n",
    "        self.swin = SwinModel.from_pretrained(ckpt)\n",
    "        self.embedding_layer = nn.Linear(config.hidden_size, 128)\n",
    "\n",
    "    def forward(self, image_tensor):\n",
    "        features = self.swin(image_tensor).pooler_output\n",
    "        embeddings = self.embedding_layer(features)\n",
    "        embeddings = F.normalize(embeddings, p=2, dim=1)\n",
    "        \n",
    "        return embeddings\n",
    "\n",
    "    \n",
    "class ContrastiveLoss(nn.Module):\n",
    "    def __init__(self, margin=1.0, temperature=0.07):\n",
    "        super(ContrastiveLoss, self).__init__()\n",
    "        self.margin = margin\n",
    "        self.temperature = temperature\n",
    "        \n",
    "    def forward(self, anchor, positive):\n",
    "        \n",
    "        batch_size = anchor.shape[0]\n",
    "        similarity_matrix = torch.matmul(anchor, positive.T) / self.temperature\n",
    "        labels = torch.arange(batch_size, device=anchor.device)\n",
    "        loss = F.cross_entropy(similarity_matrix, labels)\n",
    "        \n",
    "        return loss\n",
    "\n",
    "model = ImageEncoder().to(device)\n",
    "criterion = ContrastiveLoss().to(device)\n",
    "optimizer = torch.optim.AdamW(model.parameters(), lr=5e-5, eps=1e-8)"
   ]
  },
  {
   "cell_type": "code",
   "execution_count": null,
   "metadata": {},
   "outputs": [],
   "source": [
    "scaler = GradScaler()\n",
    "\n",
    "def train(model, dataloader, criterion, optimizer):\n",
    "    model.train()\n",
    "    total_loss = 0\n",
    "\n",
    "    for batch in tqdm(dataloader):\n",
    "        optimizer.zero_grad()\n",
    "        \n",
    "        anchor, positive = batch\n",
    "        \n",
    "        with autocast():\n",
    "            anchor_emb = model(anchor.to(device))\n",
    "            positive_emb = model(positive.to(device))\n",
    "            loss = criterion(anchor_emb, positive_emb)\n",
    "\n",
    "            scaler.scale(loss).backward()\n",
    "            scaler.step(optimizer)\n",
    "            scaler.update()\n",
    "        \n",
    "            total_loss += loss.item()\n",
    "    \n",
    "    return total_loss / len(dataloader)\n",
    "\n",
    "\n",
    "def evaluate(model, dataloader, criterion):\n",
    "    model.eval()\n",
    "    total_loss = 0\n",
    "    for batch in tqdm(dataloader):\n",
    "        anchor, positive = batch\n",
    "        with torch.no_grad():\n",
    "            anchor_emb = model(anchor.to(device))\n",
    "            positive_emb = model(positive.to(device))\n",
    "\n",
    "            loss = criterion(anchor_emb, positive_emb)\n",
    "            total_loss += loss.item()\n",
    "\n",
    "    return total_loss / len(dataloader)"
   ]
  },
  {
   "cell_type": "code",
   "execution_count": null,
   "metadata": {},
   "outputs": [],
   "source": [
    "model_save_dir = \"./model_ckpt\"\n",
    "if not os.path.isdir(model_save_dir):\n",
    "    os.makedirs(model_save_dir)\n",
    "\n",
    "epoch = 0\n",
    "min_loss = float(\"inf\")\n",
    "early_stop_counter = 0\n",
    "if os.path.exists(f'{model_save_dir}/training_state.json'):\n",
    "    with open(f'{model_save_dir}/training_state.json', 'r') as f:\n",
    "        model.load_state_dict(torch.load(f\"{model_save_dir}/image_encoder.pt\"))\n",
    "        training_state = json.load(f)\n",
    "        epoch = training_state['epoch']\n",
    "        min_loss = training_state['eval_loss']\n",
    "        \n",
    "print(f'epoch: {epoch}, min_loss: {min_loss:.4f}')"
   ]
  },
  {
   "cell_type": "code",
   "execution_count": null,
   "metadata": {},
   "outputs": [],
   "source": [
    "for epoch in range(epoch + 1, 100):\n",
    "    train_loss = train(model, train_dataloader, criterion, optimizer)\n",
    "    val_loss = evaluate(model, test_dataloader, criterion)\n",
    "\n",
    "    print(f'Epoch: {epoch}, Train loss: {train_loss:.4f}, Eval loss: {val_loss:.4f}')\n",
    "\n",
    "    if val_loss < min_loss:\n",
    "        torch.save(\n",
    "            copy.deepcopy(model).to(torch.device(\"cpu\")).state_dict(),\n",
    "            f\"{model_save_dir}/image_encoder.pt\",\n",
    "        )\n",
    "        with open(f'{model_save_dir}/training_state.json', 'w') as f:\n",
    "            f.write(json.dumps({'epoch': epoch, 'eval_loss': val_loss}))\n",
    "        min_loss = val_loss\n",
    "        early_stop_counter = 0\n",
    "    else:\n",
    "        early_stop_counter += 1\n",
    "        if early_stop_counter == 3:\n",
    "            print(f\"Early stopped at epoch {epoch + 1}\")\n",
    "            break"
   ]
  }
 ],
 "metadata": {
  "kernelspec": {
   "display_name": "fashion-visual-search",
   "language": "python",
   "name": "python3"
  },
  "language_info": {
   "codemirror_mode": {
    "name": "ipython",
    "version": 3
   },
   "file_extension": ".py",
   "mimetype": "text/x-python",
   "name": "python",
   "nbconvert_exporter": "python",
   "pygments_lexer": "ipython3",
   "version": "3.12.7"
  }
 },
 "nbformat": 4,
 "nbformat_minor": 4
}
