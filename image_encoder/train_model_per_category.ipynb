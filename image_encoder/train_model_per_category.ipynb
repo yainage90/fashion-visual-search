{
 "cells": [
  {
   "cell_type": "code",
   "execution_count": null,
   "metadata": {},
   "outputs": [],
   "source": [
    "import numpy as np\n",
    "import os\n",
    "import matplotlib.pyplot as plt\n",
    "from tqdm import tqdm\n",
    "\n",
    "import torch\n",
    "import torch.nn as nn\n",
    "import torch.nn.functional as F\n",
    "from datasets import load_dataset, concatenate_datasets\n",
    "from torch.amp import autocast, GradScaler\n",
    "from torch.utils.data import Dataset, DataLoader\n",
    "import torchvision.transforms as v2\n",
    "from transformers import AutoImageProcessor, SwinModel, SwinConfig\n",
    "from huggingface_hub import PyTorchModelHubMixin"
   ]
  },
  {
   "cell_type": "code",
   "execution_count": null,
   "metadata": {},
   "outputs": [],
   "source": [
    "device = torch.device('cuda') if torch.cuda.is_available() else torch.device('cpu')\n",
    "print(device)"
   ]
  },
  {
   "cell_type": "code",
   "execution_count": null,
   "metadata": {},
   "outputs": [],
   "source": [
    "import huggingface_hub\n",
    "\n",
    "huggingface_hub.login('<token>')"
   ]
  },
  {
   "cell_type": "code",
   "execution_count": null,
   "metadata": {},
   "outputs": [],
   "source": [
    "onthelook_dataset = load_dataset('yainage90/onthelook-fashion-anchor-positive-images')\n",
    "kream_dataset = load_dataset('yainage90/kream-fashion-anchor-positive-images')\n",
    "dataset = concatenate_datasets([onthelook_dataset['train'], kream_dataset['train']])\n",
    "dataset = dataset.train_test_split(test_size=0.05, shuffle=True, stratify_by_column='category')"
   ]
  },
  {
   "cell_type": "code",
   "execution_count": null,
   "metadata": {},
   "outputs": [],
   "source": [
    "ckpt = \"microsoft/swin-base-patch4-window7-224\"\n",
    "image_processor = AutoImageProcessor.from_pretrained(ckpt)\n",
    "config = SwinConfig.from_pretrained(ckpt)\n",
    "print(config.image_size)\n",
    "print(config.hidden_size)"
   ]
  },
  {
   "cell_type": "code",
   "execution_count": null,
   "metadata": {},
   "outputs": [],
   "source": [
    "labels = ['bag', 'bottom', 'hat', 'outer', 'shoes', 'top']"
   ]
  },
  {
   "cell_type": "code",
   "execution_count": null,
   "metadata": {},
   "outputs": [],
   "source": [
    "class CustomDataset(Dataset):\n",
    "    def __init__(self, dataset, label, config, image_processor):\n",
    "        self.dataset = dataset.select(np.where(np.array(dataset['category']) == labels.index(label))[0])\n",
    "        self.image_processor = image_processor\n",
    "\n",
    "        self.transform = v2.Compose(\n",
    "            [\n",
    "                v2.Resize((config.image_size, config.image_size)),\n",
    "                v2.RandomHorizontalFlip(p=0.5),\n",
    "                v2.RandomApply([v2.RandomRotation(degrees=(-90, 90))], p=0.3),\n",
    "                v2.RandomApply([v2.ColorJitter(brightness=0.2, contrast=0.2, saturation=0.2, hue=0.1)], p=0.2),\n",
    "                v2.RandomApply([v2.RandomAdjustSharpness(sharpness_factor=2)], p=0.1),\n",
    "                v2.RandomApply([v2.GaussianBlur(kernel_size=(5, 9), sigma=(0.1, 5))], p=0.1),\n",
    "                v2.ToTensor(),\n",
    "                v2.RandomErasing(p=0.1, scale=(0.02, 0.33), ratio=(0.3, 3.3)),\n",
    "                v2.Normalize(mean=self.image_processor.image_mean, std=self.image_processor.image_std),\n",
    "            ]\n",
    "        )\n",
    "\n",
    "    def __len__(self):\n",
    "        return len(self.dataset)\n",
    "\n",
    "    def __getitem__(self, i):\n",
    "        data = self.dataset[i]\n",
    "\n",
    "        anchor_image = self.transform(data['anchor_image'])\n",
    "        positive_image = self.transform(data['positive_image'])\n",
    "\n",
    "        return anchor_image, positive_image"
   ]
  },
  {
   "cell_type": "code",
   "execution_count": null,
   "metadata": {},
   "outputs": [],
   "source": [
    "class ImageEncoder(nn.Module, PyTorchModelHubMixin):\n",
    "    def __init__(self):\n",
    "        super(ImageEncoder, self).__init__()\n",
    "        self.swin = SwinModel(config=config)\n",
    "        self.embedding_layer = nn.Linear(config.hidden_size, 128)\n",
    "\n",
    "    def forward(self, image_tensor):\n",
    "        features = self.swin(image_tensor).pooler_output\n",
    "        embeddings = self.embedding_layer(features)\n",
    "        embeddings = F.normalize(embeddings, p=2, dim=1)\n",
    "        \n",
    "        return embeddings\n",
    "\n",
    "    \n",
    "class ContrastiveLoss(nn.Module):\n",
    "    def __init__(self, margin=1.0, temperature=0.07):\n",
    "        super(ContrastiveLoss, self).__init__()\n",
    "        self.margin = margin\n",
    "        self.temperature = temperature\n",
    "        \n",
    "    def forward(self, anchor, positive):\n",
    "        \n",
    "        batch_size = anchor.shape[0]\n",
    "        similarity_matrix = torch.matmul(anchor, positive.T) / self.temperature\n",
    "        labels = torch.arange(batch_size, device=anchor.device)\n",
    "        loss = F.cross_entropy(similarity_matrix, labels)\n",
    "        \n",
    "        return loss"
   ]
  },
  {
   "cell_type": "code",
   "execution_count": null,
   "metadata": {},
   "outputs": [],
   "source": [
    "scaler = GradScaler()\n",
    "\n",
    "def train(model, dataloader, criterion, optimizer):\n",
    "    model.train()\n",
    "    total_loss = 0\n",
    "\n",
    "    for batch in tqdm(dataloader):\n",
    "        optimizer.zero_grad()\n",
    "        \n",
    "        anchor, positive = batch\n",
    "        \n",
    "        with autocast(device.type):\n",
    "            anchor_emb = model(anchor.to(device))\n",
    "            positive_emb = model(positive.to(device))\n",
    "            loss = criterion(anchor_emb, positive_emb)\n",
    "\n",
    "            scaler.scale(loss).backward()\n",
    "            scaler.step(optimizer)\n",
    "            scaler.update()\n",
    "        \n",
    "            total_loss += loss.item()\n",
    "    \n",
    "    return total_loss / len(dataloader)\n",
    "\n",
    "\n",
    "def evaluate(model, dataloader, criterion):\n",
    "    model.eval()\n",
    "    total_loss = 0\n",
    "    for batch in tqdm(dataloader):\n",
    "        anchor, positive = batch\n",
    "        with torch.no_grad():\n",
    "            anchor_emb = model(anchor.to(device))\n",
    "            positive_emb = model(positive.to(device))\n",
    "\n",
    "            loss = criterion(anchor_emb, positive_emb)\n",
    "            total_loss += loss.item()\n",
    "\n",
    "    return total_loss / len(dataloader)"
   ]
  },
  {
   "cell_type": "code",
   "execution_count": null,
   "metadata": {},
   "outputs": [],
   "source": [
    "def train_label_model(label):\n",
    "    train_dataset = CustomDataset(dataset['train'], label=label, config=config, image_processor=image_processor)\n",
    "    test_dataset = CustomDataset(dataset['test'], label=label, config=config, image_processor=image_processor)\n",
    "\n",
    "    train_dataloader = DataLoader(train_dataset, batch_size=32, shuffle=True, num_workers=8, pin_memory=True)\n",
    "    test_dataloader = DataLoader(test_dataset, batch_size=32, shuffle=True, num_workers=8, pin_memory=True)\n",
    "\n",
    "    print(f'train: {len(train_dataset)}, test: {len(test_dataset)}')\n",
    "\n",
    "    model = ImageEncoder().to(device)\n",
    "    criterion = ContrastiveLoss().to(device)\n",
    "    optimizer = torch.optim.AdamW(model.parameters(), lr=5e-5, eps=1e-8)\n",
    "\n",
    "    model_save_dir = f'./model_ckpt/{label}'\n",
    "    if not os.path.isdir(model_save_dir):\n",
    "        os.makedirs(model_save_dir)\n",
    "\n",
    "    epoch = 0\n",
    "    min_loss = float(\"inf\")\n",
    "    early_stop_counter = 0\n",
    "\n",
    "    for epoch in range(epoch + 1, 30):\n",
    "        train_loss = train(model, train_dataloader, criterion, optimizer)\n",
    "        val_loss = evaluate(model, test_dataloader, criterion)\n",
    "\n",
    "        print(f'Epoch: {epoch}, Train loss: {train_loss:.4f}, Eval loss: {val_loss:.4f}')\n",
    "\n",
    "        if val_loss < min_loss:\n",
    "            model.save_pretrained(model_save_dir)\n",
    "            config.save_pretrained(model_save_dir)\n",
    "            image_processor.save_pretrained(model_save_dir)\n",
    "            min_loss = val_loss\n",
    "            early_stop_counter = 0\n",
    "        else:\n",
    "            early_stop_counter += 1\n",
    "            if early_stop_counter == 3:\n",
    "                print(f\"Early stopped at epoch {epoch + 1}\")\n",
    "                break"
   ]
  },
  {
   "cell_type": "code",
   "execution_count": null,
   "metadata": {},
   "outputs": [],
   "source": [
    "for label in labels:\n",
    "    train_label_model(label)"
   ]
  }
 ],
 "metadata": {
  "kernelspec": {
   "display_name": "fashion-visual-search",
   "language": "python",
   "name": "python3"
  },
  "language_info": {
   "codemirror_mode": {
    "name": "ipython",
    "version": 3
   },
   "file_extension": ".py",
   "mimetype": "text/x-python",
   "name": "python",
   "nbconvert_exporter": "python",
   "pygments_lexer": "ipython3",
   "version": "3.12.7"
  }
 },
 "nbformat": 4,
 "nbformat_minor": 4
}
