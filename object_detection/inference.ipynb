{
 "cells": [
  {
   "cell_type": "code",
   "execution_count": null,
   "metadata": {},
   "outputs": [],
   "source": [
    "import os\n",
    "import torch\n",
    "\n",
    "from PIL import Image, ImageDraw, ImageFont\n",
    "from transformers import  ConditionalDetrImageProcessor, ConditionalDetrForObjectDetection\n",
    "import matplotlib.pyplot as plt"
   ]
  },
  {
   "cell_type": "code",
   "execution_count": null,
   "metadata": {},
   "outputs": [],
   "source": [
    "device = torch.device(\"cpu\")\n",
    "\n",
    "ckpt = \"./model_ckpt\"\n",
    "image_processor = ConditionalDetrImageProcessor.from_pretrained(ckpt)\n",
    "model = ConditionalDetrForObjectDetection.from_pretrained(ckpt)\n",
    "model = model.to(device)"
   ]
  },
  {
   "cell_type": "code",
   "execution_count": null,
   "metadata": {},
   "outputs": [],
   "source": [
    "def calculate_iou(box1, box2):\n",
    "    x1, y1, x2, y2 = box1\n",
    "    x3, y3, x4, y4 = box2\n",
    "\n",
    "    xx1, yy1 = max(x1, x3), max(y1, y3)\n",
    "    xx2, yy2 = min(x2, x4), min(y2, y4)\n",
    "\n",
    "    intersection_area = max(0, xx2 - xx1) * max(0, yy2 - yy1)\n",
    "\n",
    "    box1_area = (x2 - x1) * (y2 - y1)\n",
    "    box2_area = (x4 - x3) * (y4 - y3)\n",
    "\n",
    "    iou = intersection_area / float(box1_area + box2_area - intersection_area)\n",
    "    return iou\n",
    "\n",
    "def non_max_suppression(items, iou_threshold=0.7):\n",
    "    sorted_items = sorted(items, key=lambda x: x[0], reverse=True)\n",
    "    \n",
    "    keep = []\n",
    "    while sorted_items:\n",
    "        current = sorted_items.pop(0)\n",
    "        keep.append(current)\n",
    "        \n",
    "        sorted_items = [\n",
    "            item for item in sorted_items\n",
    "            if calculate_iou(current[2], item[2]) < iou_threshold\n",
    "        ]\n",
    "    \n",
    "    return keep\n",
    "\n",
    "def detect_objects(image_path):\n",
    "    image = Image.open(image_path).convert(\"RGB\")\n",
    "\n",
    "    with torch.no_grad():\n",
    "        inputs = image_processor(images=[image], return_tensors=\"pt\")\n",
    "        outputs = model(**inputs.to(device))\n",
    "        target_sizes = torch.tensor([[image.size[1], image.size[0]]])\n",
    "        results = image_processor.post_process_object_detection(outputs, threshold=0.4, target_sizes=target_sizes)[0]\n",
    "\n",
    "    items = []\n",
    "    for score, label, box in zip(results[\"scores\"], results[\"labels\"], results[\"boxes\"]):\n",
    "        score = score.item()\n",
    "        label = label.item()\n",
    "        box = [i.item() for i in box]\n",
    "        print(f\"{model.config.id2label[label]}: {round(score, 3)} at {box}\")\n",
    "        items.append((score, label, box))\n",
    "    \n",
    "    items = non_max_suppression(items)\n",
    "        \n",
    "    draw = ImageDraw.Draw(image)\n",
    "    font = ImageFont.load_default(size=20)\n",
    "    result = []\n",
    "    for score, label, bbox in items:\n",
    "        box = [round(i, 2) for i in bbox]\n",
    "        result.append((image.crop(bbox), model.config.id2label[label], score))\n",
    "        x, y, x2, y2 = tuple(bbox)\n",
    "        draw.rectangle((x, y, x2, y2), outline=\"green\", width=3)\n",
    "        text_position = (bbox[0], bbox[1] - 25)\n",
    "        draw.text(text_position, f\"{model.config.id2label[label]} {score:.2f}\", fill=\"red\", font=font)\n",
    "\n",
    "    plt.figure(figsize=(12, 9))\n",
    "    plt.imshow(image)\n",
    "    plt.xticks([])\n",
    "    plt.yticks([])\n",
    "    plt.show()\n",
    "\n",
    "    return result"
   ]
  },
  {
   "cell_type": "code",
   "execution_count": null,
   "metadata": {},
   "outputs": [],
   "source": [
    "image_fnames = [f for f in os.listdir('./sample_images') if not f.startswith('.')]\n",
    "image_paths = [f'./sample_images/{f}' for f in image_fnames]\n",
    "for image_path in image_paths:\n",
    "    detect_objects(image_path)"
   ]
  }
 ],
 "metadata": {
  "kernelspec": {
   "display_name": "fashion_image_retrieval",
   "language": "python",
   "name": "python3"
  },
  "language_info": {
   "codemirror_mode": {
    "name": "ipython",
    "version": 3
   },
   "file_extension": ".py",
   "mimetype": "text/x-python",
   "name": "python",
   "nbconvert_exporter": "python",
   "pygments_lexer": "ipython3",
   "version": "3.12.0"
  }
 },
 "nbformat": 4,
 "nbformat_minor": 2
}
