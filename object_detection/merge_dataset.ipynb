{
 "cells": [
  {
   "cell_type": "code",
   "execution_count": null,
   "metadata": {},
   "outputs": [],
   "source": [
    "from datasets import load_from_disk, concatenate_datasets, DatasetDict, load_from_disk\n",
    "\n",
    "fashionpedia_hf_dataset = load_from_disk('./fashionpedia_hf_dataset')\n",
    "modanet_hf_dataset = load_from_disk('./modanet_hf_dataset')\n",
    "\n",
    "train_merged = concatenate_datasets([fashionpedia_hf_dataset['train'], modanet_hf_dataset['train']])\n",
    "test_merged = concatenate_datasets([fashionpedia_hf_dataset['test'], modanet_hf_dataset['test']])\n",
    "\n",
    "dataset = DatasetDict({\n",
    "    'train': train_merged,\n",
    "    'test': test_merged\n",
    "})\n",
    "\n",
    "dataset.save_to_disk('./object_detection_dataset')"
   ]
  },
  {
   "cell_type": "code",
   "execution_count": null,
   "metadata": {},
   "outputs": [],
   "source": [
    "print(dataset)"
   ]
  },
  {
   "cell_type": "code",
   "execution_count": null,
   "metadata": {},
   "outputs": [],
   "source": [
    "dataset.push_to_hub(repo_id='yainage90/fashion-object-detection-v2', private=True)"
   ]
  },
  {
   "cell_type": "code",
   "execution_count": null,
   "metadata": {},
   "outputs": [],
   "source": []
  }
 ],
 "metadata": {
  "kernelspec": {
   "display_name": "fashion-visual-search",
   "language": "python",
   "name": "python3"
  },
  "language_info": {
   "codemirror_mode": {
    "name": "ipython",
    "version": 3
   },
   "file_extension": ".py",
   "mimetype": "text/x-python",
   "name": "python",
   "nbconvert_exporter": "python",
   "pygments_lexer": "ipython3",
   "version": "3.12.7"
  }
 },
 "nbformat": 4,
 "nbformat_minor": 2
}
