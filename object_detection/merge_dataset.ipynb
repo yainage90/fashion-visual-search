{
 "cells": [
  {
   "cell_type": "code",
   "execution_count": 2,
   "metadata": {},
   "outputs": [
    {
     "data": {
      "application/vnd.jupyter.widget-view+json": {
       "model_id": "db388ed465194dd2b88e64a21300d736",
       "version_major": 2,
       "version_minor": 0
      },
      "text/plain": [
       "Saving the dataset (0/10 shards):   0%|          | 0/84431 [00:00<?, ? examples/s]"
      ]
     },
     "metadata": {},
     "output_type": "display_data"
    },
    {
     "data": {
      "application/vnd.jupyter.widget-view+json": {
       "model_id": "53002e9cf8874c9080709c7a88f5fe38",
       "version_major": 2,
       "version_minor": 0
      },
      "text/plain": [
       "Saving the dataset (0/1 shards):   0%|          | 0/5544 [00:00<?, ? examples/s]"
      ]
     },
     "metadata": {},
     "output_type": "display_data"
    }
   ],
   "source": [
    "from datasets import load_from_disk, concatenate_datasets, DatasetDict, load_from_disk\n",
    "\n",
    "fashionpedia_hf_dataset = load_from_disk('./fashionpedia_hf_dataset')\n",
    "modanet_hf_dataset = load_from_disk('./modanet_hf_dataset')\n",
    "\n",
    "train_merged = concatenate_datasets([fashionpedia_hf_dataset['train'], modanet_hf_dataset['train']])\n",
    "test_merged = concatenate_datasets([fashionpedia_hf_dataset['test'], modanet_hf_dataset['test']])\n",
    "\n",
    "dataset = DatasetDict({\n",
    "    'train': train_merged,\n",
    "    'test': test_merged\n",
    "})\n",
    "\n",
    "dataset.save_to_disk('./object_detection_dataset')"
   ]
  },
  {
   "cell_type": "code",
   "execution_count": 4,
   "metadata": {},
   "outputs": [
    {
     "data": {
      "text/plain": [
       "DatasetDict({\n",
       "    train: Dataset({\n",
       "        features: ['image_id', 'width', 'height', 'image', 'objects'],\n",
       "        num_rows: 84431\n",
       "    })\n",
       "    test: Dataset({\n",
       "        features: ['image_id', 'width', 'height', 'image', 'objects'],\n",
       "        num_rows: 5544\n",
       "    })\n",
       "})"
      ]
     },
     "execution_count": 4,
     "metadata": {},
     "output_type": "execute_result"
    }
   ],
   "source": [
    "dataset = load_from_disk('./object_detection_dataset')\n",
    "dataset"
   ]
  },
  {
   "cell_type": "code",
   "execution_count": null,
   "metadata": {},
   "outputs": [],
   "source": []
  }
 ],
 "metadata": {
  "kernelspec": {
   "display_name": "fashion_image_retrieval",
   "language": "python",
   "name": "python3"
  },
  "language_info": {
   "codemirror_mode": {
    "name": "ipython",
    "version": 3
   },
   "file_extension": ".py",
   "mimetype": "text/x-python",
   "name": "python",
   "nbconvert_exporter": "python",
   "pygments_lexer": "ipython3",
   "version": "3.12.0"
  }
 },
 "nbformat": 4,
 "nbformat_minor": 2
}
