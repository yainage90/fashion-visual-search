{
 "cells": [
  {
   "cell_type": "code",
   "execution_count": null,
   "metadata": {},
   "outputs": [],
   "source": [
    "import requests\n",
    "from selenium import webdriver\n",
    "from selenium.webdriver.common.by import By\n",
    "import time\n",
    "from tqdm import tqdm\n",
    "import os"
   ]
  },
  {
   "cell_type": "code",
   "execution_count": null,
   "metadata": {},
   "outputs": [],
   "source": [
    "driver = webdriver.Chrome() \n",
    "headers = {\n",
    "    'User-Agent': 'Mozilla/5.0 (Macintosh; Intel Mac OS X 10_15_7)'\n",
    "}"
   ]
  },
  {
   "cell_type": "code",
   "execution_count": null,
   "metadata": {},
   "outputs": [],
   "source": [
    "for category, base_url in [\n",
    "    ('top', 'https://shop.29cm.co.kr/category/list?categoryLargeCode=272100100&categoryMediumCode=272103100&sort=ORDER&defaultSort=RECOMMEND&sortOrder=DESC'),\n",
    "    ('top', 'https://shop.29cm.co.kr/category/list?categoryLargeCode=268100100&categoryMediumCode=268103100&sort=ORDER&defaultSort=RECOMMEND&sortOrder=DESC'),\n",
    "    ('outer', 'https://shop.29cm.co.kr/category/list?categoryLargeCode=272100100&categoryMediumCode=272102100&sort=ORDER&defaultSort=RECOMMEND&sortOrder=DESC'),\n",
    "    ('outer', 'https://shop.29cm.co.kr/category/list?colors=&categoryLargeCode=268100100&categoryMediumCode=268102100&sort=ORDER&defaultSort=RECOMMEND&sortOrder=DESC'),\n",
    "    ('bottom', 'https://shop.29cm.co.kr/category/list?categoryLargeCode=272100100&categoryMediumCode=272104100&sort=ORDER&defaultSort=RECOMMEND&sortOrder=DESC'),\n",
    "    ('bottom', 'https://shop.29cm.co.kr/category/list?categoryLargeCode=268100100&categoryMediumCode=268106100&sort=ORDER&defaultSort=RECOMMEND&sortOrder=DESC'),\n",
    "    ('bottom', 'https://shop.29cm.co.kr/category/list?colors=&categoryLargeCode=268100100&categoryMediumCode=268107100&sort=RECOMMEND&defaultSort=RECOMMEND&sortOrder=DESC'),\n",
    "    ('shoes', 'https://shop.29cm.co.kr/category/list?categoryLargeCode=274100100&categoryMediumCode=&sort=ORDER&defaultSort=RECOMMEND&sortOrder=DESC'),\n",
    "    ('shoes', 'https://shop.29cm.co.kr/category/list?categoryLargeCode=270100100&categoryMediumCode=&sort=RECOMMEND&defaultSort=RECOMMEND&sortOrder=DESC'),\n",
    "    ('bag', 'https://shop.29cm.co.kr/category/list?categoryLargeCode=273100100&categoryMediumCode=&sort=RECOMMEND&defaultSort=RECOMMEND&sortOrder=DESC'),\n",
    "    ('bag', 'https://shop.29cm.co.kr/category/list?categoryLargeCode=269100100&categoryMediumCode=&sort=RECOMMEND&defaultSort=RECOMMEND&sortOrder=DESC'),\n",
    "    ('hat', 'https://shop.29cm.co.kr/category/list?categoryLargeCode=275100100&categoryMediumCode=275101100&sort=RECOMMEND&defaultSort=RECOMMEND&sortOrder=DESC'),\n",
    "    ('hat', 'https://shop.29cm.co.kr/category/list?categoryLargeCode=271100100&categoryMediumCode=271102100&sort=RECOMMEND&defaultSort=RECOMMEND&sortOrder=DESC'),\n",
    "]:\n",
    "    save_dir = f'./29cm_thumbnails/{category}'\n",
    "    if not os.path.isdir(save_dir):\n",
    "        os.makedirs(save_dir)\n",
    "        \n",
    "    for page in tqdm(range(1, 300), desc=category):\n",
    "        url = f'{base_url}&page={page}'\n",
    "        driver.get(url)\n",
    "        time.sleep(1)\n",
    "        imgs = driver.find_elements(By.CLASS_NAME, 'object-fit')\n",
    "        for img in imgs:\n",
    "            img_src = img.get_attribute('src').split(\"?\")[0]\n",
    "            product_id = img_src.split('/')[-1].split('.')[0]\n",
    "            response = requests.get(img_src, headers=headers)\n",
    "            with open(f'{save_dir}/{product_id}.jpg', 'wb') as f:\n",
    "                f.write(response.content)"
   ]
  },
  {
   "cell_type": "code",
   "execution_count": null,
   "metadata": {},
   "outputs": [],
   "source": []
  }
 ],
 "metadata": {
  "kernelspec": {
   "display_name": "fashion-visual-search",
   "language": "python",
   "name": "python3"
  },
  "language_info": {
   "codemirror_mode": {
    "name": "ipython",
    "version": 3
   },
   "file_extension": ".py",
   "mimetype": "text/x-python",
   "name": "python",
   "nbconvert_exporter": "python",
   "pygments_lexer": "ipython3",
   "version": "3.12.7"
  }
 },
 "nbformat": 4,
 "nbformat_minor": 2
}
