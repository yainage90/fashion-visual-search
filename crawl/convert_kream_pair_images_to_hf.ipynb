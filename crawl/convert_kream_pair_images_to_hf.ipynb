{
 "cells": [
  {
   "cell_type": "code",
   "execution_count": null,
   "metadata": {},
   "outputs": [],
   "source": [
    "import os\n",
    "import io\n",
    "from tqdm import tqdm\n",
    "from datetime import datetime\n",
    "\n",
    "from PIL import Image\n",
    "from datasets import Features, Value, ClassLabel, Dataset, concatenate_datasets, load_dataset, load_from_disk\n",
    "from datasets import Image as DImage"
   ]
  },
  {
   "cell_type": "code",
   "execution_count": null,
   "metadata": {},
   "outputs": [],
   "source": [
    "anchor_dict = {}\n",
    "positive_dict = {}\n",
    "category_dict = {}\n",
    "post_id_dict = {}\n",
    "\n",
    "labels = ['bag', 'bottom', 'dress', 'hat', 'shoes', 'outer', 'top']\n",
    "label2id = {\n",
    "    l: i for i, l in enumerate(labels)\n",
    "}\n",
    "\n",
    "pair_id = 0\n",
    "\n",
    "categories = [i for i in os.listdir('./kream_anchor_positive_images') if not i.startswith('.')]\n",
    "for category in categories:\n",
    "    post_ids = os.listdir(f'./kream_anchor_positive_images/{category}')\n",
    "    for post_id in tqdm(post_ids, desc=category):\n",
    "        category_id = label2id[category]\n",
    "        anchor_image_path = f'./kream_anchor_positive_images/{category}/{post_id}/anchor.jpg'\n",
    "        positive_image_path = f'./kream_anchor_positive_images/{category}/{post_id}/positive.jpg'\n",
    "\n",
    "        anchor_dict[pair_id] = anchor_image_path\n",
    "        positive_dict[pair_id] = positive_image_path\n",
    "        category_dict[pair_id] = category_id\n",
    "        post_id_dict[pair_id] = post_id\n",
    "\n",
    "        pair_id += 1\n",
    "\n",
    "assert len(anchor_dict) == len(positive_dict) == len(category_dict)\n",
    "print(f'anchor: {len(anchor_dict)}')\n",
    "print(f'positive: {len(positive_dict)}')\n",
    "print(f'category: {len(category_dict)}')\n",
    "print(f'post_id: {len(post_id_dict)}')"
   ]
  },
  {
   "cell_type": "code",
   "execution_count": null,
   "metadata": {},
   "outputs": [],
   "source": [
    "class_label = ClassLabel(names=labels)\n",
    "features = Features({\n",
    "    'anchor_image': DImage(decode=True),\n",
    "    'positive_image': DImage(decode=True),\n",
    "    'category': class_label,\n",
    "    'post_id': Value('string'),\n",
    "})\n",
    "\n",
    "seg = 0\n",
    "for i in range(0, len(anchor_dict), 5000):\n",
    "    data_list = []\n",
    "    batch_pair_ids = list(sorted(anchor_dict.keys()))[i: i + 5000]\n",
    "    for pair_id in tqdm(batch_pair_ids):\n",
    "        anchor_image_path = anchor_dict[pair_id]\n",
    "        try:\n",
    "            anchor_image = Image.open(anchor_image_path).convert('RGB')\n",
    "        except Exception:\n",
    "            continue\n",
    "        anchor_jpeg_buffer = io.BytesIO()\n",
    "        anchor_image.save(anchor_jpeg_buffer, format='JPEG')\n",
    "        anchor_jpeg_buffer.seek(0)\n",
    "        anchor_image = Image.open(anchor_jpeg_buffer)\n",
    "\n",
    "        positive_image_path = positive_dict[pair_id]\n",
    "        try:\n",
    "            positive_image = Image.open(positive_image_path).convert('RGB')\n",
    "        except Exception:\n",
    "            continue\n",
    "        positive_jpeg_buffer = io.BytesIO()\n",
    "        positive_image.save(positive_jpeg_buffer, format='JPEG')\n",
    "        positive_jpeg_buffer.seek(0)\n",
    "        positive_image = Image.open(positive_jpeg_buffer)\n",
    "\n",
    "        category = category_dict[pair_id]\n",
    "        data_list.append(\n",
    "            {\n",
    "                'anchor_image': anchor_image,\n",
    "                'positive_image': positive_image,\n",
    "                'category': category,\n",
    "                'post_id': post_id_dict[pair_id],\n",
    "            }\n",
    "        )\n",
    "\n",
    "    dataset = Dataset.from_list(data_list, features=features)\n",
    "    dataset.save_to_disk(f'./kream_data_segs/seg_{seg}')\n",
    "    seg += 1"
   ]
  },
  {
   "cell_type": "code",
   "execution_count": null,
   "metadata": {},
   "outputs": [],
   "source": [
    "sub_datasets = []\n",
    "segs = os.listdir('./kream_data_segs')\n",
    "for seg in segs:\n",
    "    sub_dataset = load_from_disk(f'./kream_data_segs/{seg}')\n",
    "    sub_datasets.append(sub_dataset)\n",
    "\n",
    "dataset = concatenate_datasets(sub_datasets)\n",
    "print(f'new: {len(dataset)}')\n",
    "\n",
    "prev_dirs = sorted([d for d in os.listdir('./') if d.startswith('kream_dataset')])\n",
    "if prev_dirs:\n",
    "    prev_dataset = load_from_disk(prev_dirs[-1])\n",
    "else:\n",
    "    prev_dataset = None\n",
    "\n",
    "if prev_dataset:\n",
    "    print(f'prev: {len(prev_dataset)}')\n",
    "    dataset = concatenate_datasets([prev_dataset, dataset])\n",
    "\n",
    "print(f'total: {len(dataset)}')\n",
    "num_shards = dataset.num_rows // 10000 + int(bool(dataset.num_rows % 10000))\n",
    "dataset.save_to_disk(f'./kream_dataset_{datetime.now().strftime(\"%Y%m%d%H%M%S\")}', num_shards=num_shards)"
   ]
  },
  {
   "cell_type": "code",
   "execution_count": null,
   "metadata": {},
   "outputs": [],
   "source": [
    "import shutil\n",
    "\n",
    "shutil.rmtree('./kream_data_segs')\n",
    "shutil.rmtree('./kream_anchor_positive_images')"
   ]
  },
  {
   "cell_type": "code",
   "execution_count": null,
   "metadata": {},
   "outputs": [],
   "source": [
    "dataset.push_to_hub('yainage90/kream-fashion-anchor-positive-images', private=True)"
   ]
  },
  {
   "cell_type": "code",
   "execution_count": null,
   "metadata": {},
   "outputs": [],
   "source": []
  }
 ],
 "metadata": {
  "kernelspec": {
   "display_name": "fashion-visual-search",
   "language": "python",
   "name": "python3"
  },
  "language_info": {
   "codemirror_mode": {
    "name": "ipython",
    "version": 3
   },
   "file_extension": ".py",
   "mimetype": "text/x-python",
   "name": "python",
   "nbconvert_exporter": "python",
   "pygments_lexer": "ipython3",
   "version": "3.12.7"
  }
 },
 "nbformat": 4,
 "nbformat_minor": 2
}
