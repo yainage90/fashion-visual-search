{
 "cells": [
  {
   "cell_type": "code",
   "execution_count": null,
   "metadata": {},
   "outputs": [],
   "source": [
    "import requests\n",
    "from selenium import webdriver\n",
    "from selenium.webdriver.common.by import By\n",
    "import time\n",
    "from tqdm import tqdm\n",
    "import os"
   ]
  },
  {
   "cell_type": "code",
   "execution_count": null,
   "metadata": {},
   "outputs": [],
   "source": [
    "driver = webdriver.Chrome() \n",
    "headers = {\n",
    "    'User-Agent': 'Mozilla/5.0 (Macintosh; Intel Mac OS X 10_15_7)'\n",
    "}"
   ]
  },
  {
   "cell_type": "code",
   "execution_count": null,
   "metadata": {},
   "outputs": [],
   "source": [
    "for category, base_url in [\n",
    "    ('top', 'https://kream.co.kr/search?shop_category_id=27,26,75,28,23,74,24,76,78'),\n",
    "    ('outer', 'https://kream.co.kr/search?shop_category_id=63'),\n",
    "    ('bottom', 'https://kream.co.kr/search?shop_category_id=65'),\n",
    "    ('shoes', 'https://kream.co.kr/search?shop_category_id=34'),\n",
    "    ('bag', 'https://kream.co.kr/search?shop_category_id=9'),\n",
    "    ('hat', 'https://kream.co.kr/search?shop_category_id=105,104,103,106'),\n",
    "    ('dress', 'https://kream.co.kr/search?shop_category_id=77'),\n",
    "    ('etc', 'https://kream.co.kr/search?shop_category_id=120,124,121,125,126,127,128,129,118,119,140,141,122,123,56,31,130,51,131,132,133,134,12,135,136,137,138,33,61,139,112,113,143,144,146,147,145,44,114,115,41,116,117,100,101,102,142,53,52,59,107,57,108,109,110,148,111,18,91,92,93,94'),\n",
    "]:\n",
    "    save_dir = f'./kream_thumbnails/{category}'\n",
    "    if not os.path.isdir(save_dir):\n",
    "        os.makedirs(save_dir)\n",
    "        \n",
    "    for page in tqdm(range(1, 300), desc=category):\n",
    "        url = f'{base_url}&page={page}'\n",
    "        driver.get(url)\n",
    "        time.sleep(1)\n",
    "        divs = driver.find_elements(By.CLASS_NAME, 'item_inner')\n",
    "        for div in divs:\n",
    "            href = div.get_attribute('href')\n",
    "            product_id = href.split('/')[-1]\n",
    "            pic = div.find_element(By.CLASS_NAME, 'product_img')\n",
    "            img = pic.find_element(By.TAG_NAME, 'img')\n",
    "            img_src = img.get_attribute('src')\n",
    "\n",
    "            response = requests.get(img_src, headers=headers)\n",
    "            with open(f'{save_dir}/{product_id}.jpg', 'wb') as f:\n",
    "                f.write(response.content)"
   ]
  },
  {
   "cell_type": "code",
   "execution_count": null,
   "metadata": {},
   "outputs": [],
   "source": []
  }
 ],
 "metadata": {
  "kernelspec": {
   "display_name": "fashion-visual-search",
   "language": "python",
   "name": "python3"
  },
  "language_info": {
   "codemirror_mode": {
    "name": "ipython",
    "version": 3
   },
   "file_extension": ".py",
   "mimetype": "text/x-python",
   "name": "python",
   "nbconvert_exporter": "python",
   "pygments_lexer": "ipython3",
   "version": "3.12.7"
  }
 },
 "nbformat": 4,
 "nbformat_minor": 2
}
